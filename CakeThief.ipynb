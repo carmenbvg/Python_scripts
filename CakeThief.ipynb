{
  "nbformat": 4,
  "nbformat_minor": 0,
  "metadata": {
    "colab": {
      "name": "CakeThief.ipynb",
      "version": "0.3.2",
      "provenance": [],
      "include_colab_link": true
    },
    "kernelspec": {
      "name": "python3",
      "display_name": "Python 3"
    }
  },
  "cells": [
    {
      "cell_type": "markdown",
      "metadata": {
        "id": "view-in-github",
        "colab_type": "text"
      },
      "source": [
        "<a href=\"https://colab.research.google.com/github/carmenbvg/Python_scripts/blob/master/CakeThief.ipynb\" target=\"_parent\"><img src=\"https://colab.research.google.com/assets/colab-badge.svg\" alt=\"Open In Colab\"/></a>"
      ]
    },
    {
      "cell_type": "code",
      "metadata": {
        "id": "Tigr40bRNglH",
        "colab_type": "code",
        "colab": {}
      },
      "source": [
        "cakes = [(7, 160), (3, 90), (2, 15)]\n",
        "capacity    = 20"
      ],
      "execution_count": 0,
      "outputs": []
    },
    {
      "cell_type": "code",
      "metadata": {
        "id": "sHGfjoUVNqYU",
        "colab_type": "code",
        "colab": {}
      },
      "source": [
        "def max_duffel_bag_value(cake_tuples):\n",
        "  \n",
        "  \n",
        "  #Find the better cake in ratio value per weight\n",
        "  \n",
        "  ratio_max = 1\n",
        "  \n",
        "  for i, cake in enumerate(cake_tuples):\n",
        "    \n",
        "    \n",
        "    ratio = cake[1]/cake[0]\n",
        "    \n",
        "    if ratio > ratio_max:\n",
        "      \n",
        "      \n",
        "      ratio_max = ratio\n",
        "      i_max = i\n",
        "      w = cake[0]\n",
        "      v = cake[1]\n",
        "      \n",
        "  print(\"El pastel más ventajoso es el que pesa '{}' y vale '{}'\".format(w,v))\n",
        "  \n",
        "  m = capacity//w\n",
        "  r = capacity%w\n",
        "  \n",
        "  print(\"La máxima cantidad de pasteles ventajosos a robar, será '{}', pero todavía nos cabe un peso de '{}'\".format(m,r))\n",
        "\n",
        "  #Eliminate, from the list, the cake that has been used to fill the most of the duffel bag\n",
        "  \n",
        "  cake_tuples.pop(i_max)\n",
        "  \n",
        "  #Eliminate, from the list, the cakes whose weight is bigger than the capacity remaining in the duffel bag\n",
        "  \n",
        "  for i, cake in enumerate(cake_tuples):\n",
        "    \n",
        "    if cake[0]>r:\n",
        "      cake_tuples.pop(i)\n",
        "  \n",
        "  ratio_max2 =1\n",
        "  \n",
        "  for i, cake in enumerate(cake_tuples):\n",
        "    \n",
        "    ratio2 = cake[1]/cake[0]\n",
        "    \n",
        "    if ratio2 > ratio_max2:\n",
        "      \n",
        "      \n",
        "      ratio_max2 = ratio2\n",
        "      i_max2 = i\n",
        "      w2 = cake[0]\n",
        "      v2 = cake[1]\n",
        "      \n",
        "  print(\"El segundo pastel más ventajoso es el que pesa '{}' y vale '{}'\".format(w2,v2))\n",
        "  \n",
        "  m2 = r//w2\n",
        "  r2 = r%w2\n",
        "    \n",
        "    \n",
        "  print(\"completamos la bolsa con '{}' pasteles de peso '{}' y valor '{}'\".format(m2,w2,v2))\n",
        "  \n",
        "  \n",
        "  "
      ],
      "execution_count": 0,
      "outputs": []
    },
    {
      "cell_type": "code",
      "metadata": {
        "id": "4E5SHpinPkgY",
        "colab_type": "code",
        "outputId": "a344b0cb-6f5f-4de9-d534-dab764f8edc8",
        "colab": {
          "base_uri": "https://localhost:8080/",
          "height": 85
        }
      },
      "source": [
        "max_duffel_bag_value(cakes)"
      ],
      "execution_count": 36,
      "outputs": [
        {
          "output_type": "stream",
          "text": [
            "El pastel más ventajoso es el que pesa '3' y vale '90'\n",
            "La máxima cantidad de pasteles ventajosos a robar, será '6', pero todavía nos cabe un peso de '2'\n",
            "El segundo pastel más ventajoso es el que pesa '2' y vale '15'\n",
            "completamos la bolsa con '1' pasteles de peso '2' y valor '15'\n"
          ],
          "name": "stdout"
        }
      ]
    },
    {
      "cell_type": "code",
      "metadata": {
        "id": "--WWz_HaP_A2",
        "colab_type": "code",
        "colab": {}
      },
      "source": [
        ""
      ],
      "execution_count": 0,
      "outputs": []
    }
  ]
}