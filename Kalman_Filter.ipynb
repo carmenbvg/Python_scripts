{
  "nbformat": 4,
  "nbformat_minor": 0,
  "metadata": {
    "colab": {
      "name": "Kalman_Filter.ipynb",
      "provenance": [],
      "authorship_tag": "ABX9TyPEreVYnKGmwbBHXDo83F3b",
      "include_colab_link": true
    },
    "kernelspec": {
      "name": "python3",
      "display_name": "Python 3"
    }
  },
  "cells": [
    {
      "cell_type": "markdown",
      "metadata": {
        "id": "view-in-github",
        "colab_type": "text"
      },
      "source": [
        "<a href=\"https://colab.research.google.com/github/carmenbvg/Python_scripts/blob/master/Kalman_Filter.ipynb\" target=\"_parent\"><img src=\"https://colab.research.google.com/assets/colab-badge.svg\" alt=\"Open In Colab\"/></a>"
      ]
    },
    {
      "cell_type": "markdown",
      "metadata": {
        "id": "YL3vwUnPPzuk",
        "colab_type": "text"
      },
      "source": [
        "Ejercicio a partir de entrada de Medium: https://towardsdatascience.com/the-curious-case-of-kalman-filters-f29c3d17b121"
      ]
    },
    {
      "cell_type": "code",
      "metadata": {
        "id": "_-o57pn-Ly4A",
        "colab_type": "code",
        "colab": {}
      },
      "source": [
        "from math import *\n",
        "import matplotlib.pyplot as plt\n",
        "import numpy as np\n",
        "\n",
        "#gaussian function\n",
        "\n",
        "def f(mu, sigma2, x):\n",
        "  coefficient = 1.0/sqrt(2.0 * pi * sigma2)\n",
        "  exponential = exp(-0.5*(x-mu)**2/sigma2)\n",
        "  return (coefficient*exponential)"
      ],
      "execution_count": 0,
      "outputs": []
    },
    {
      "cell_type": "markdown",
      "metadata": {
        "id": "F7ySlbUAP-LJ",
        "colab_type": "text"
      },
      "source": [
        "In Kalman filters, we iterate through measurement (measurement update) which uses Bayes rule, which is nothing else but a product or multiplication and through motion update(prediction) in which we use total probability which is a convolution or simply an addition.\n",
        "![texto alternativo](https://miro.medium.com/max/1574/1*UZ82HBmsMw31He91DlXhOg.png)\n",
        "Suppose we multiply two Gaussians, as in Bayes rule, a prior and a measurement probability. The prior has a mean of Mu(μ) and a variance of Sigma square(σ²), and the measurement has a mean of Nu(v) and covariance of r-square(r²).\n",
        "\n",
        "Then, the new mean, Mu prime(μ′), is the weighted sum of the old means. The Mu(μ) is weighted by r-square(r²), Nu(v) is weighted by Sigma square(σ²), normalized by the sum of the weighting factors. The new variance term would be Sigma square prime(σ²′).\n",
        "\n",
        "Clearly, the prior Gaussian has a much higher uncertainty, therefore, Sigma square(σ²) is larger and that means the Nu(v) is weighted much much larger than the Mu(μ). So, the mean will be closer to the Nu(v)than the Mu(μ). Interestingly enough, the variance term is unaffected by the actual means, it just uses the previous variances.\n",
        "\n",
        "![texto alternativo](https://miro.medium.com/max/944/1*J314Aa_L26NAjNCkBrZ3ZA.png)\n",
        "![texto alternativo](https://miro.medium.com/max/1328/1*MPGzpdwBhafZq553sn7Vnw.png)"
      ]
    },
    {
      "cell_type": "code",
      "metadata": {
        "id": "U3FmkwpvRnYB",
        "colab_type": "code",
        "colab": {}
      },
      "source": [
        "def update(mean1, var1, mean2, var2):\n",
        "  #calculate de new parameters\n",
        "  new_mean = (var2*mean1 + var1*mean2)/(var2 + var1)\n",
        "  new_var = 1/(1/var2 + 1/var1)\n",
        "\n",
        "  return(new_mean, new_var)"
      ],
      "execution_count": 0,
      "outputs": []
    },
    {
      "cell_type": "markdown",
      "metadata": {
        "id": "VP0e6_WmwQXd",
        "colab_type": "text"
      },
      "source": [
        "A new Mean(μ′) is your old Mean Mu(μ) plus the motion often called u. So, if you move over 10 meters in the x-direction, this will be 10 meters and you knew Sigma square prime(σ²′) is your old Sigma squared(σ²) plus the variance(r²) of the motion Gaussian. This is all you need to know, it’s just an addition. The resulting Gaussian in the prediction step just adds these two things up, mu(μ) plus u and sigma squared(σ²) plus (r²)"
      ]
    },
    {
      "cell_type": "code",
      "metadata": {
        "id": "XLQuiKk-wS4V",
        "colab_type": "code",
        "colab": {}
      },
      "source": [
        "def predict(mean1, var1, mean2, var2):\n",
        "  #calculate the new parameters\n",
        "  new_mean = mean1 + mean2\n",
        "  new_var = var1 + var2\n",
        "\n",
        "  return(new_mean, new_var)"
      ],
      "execution_count": 0,
      "outputs": []
    },
    {
      "cell_type": "markdown",
      "metadata": {
        "id": "Gf2w5T9uw-6K",
        "colab_type": "text"
      },
      "source": [
        "The Filter Pipeline"
      ]
    },
    {
      "cell_type": "code",
      "metadata": {
        "id": "wT6z-xOUw6oS",
        "colab_type": "code",
        "outputId": "9f88cd54-db35-452f-aed2-5e47aaa97006",
        "colab": {
          "base_uri": "https://localhost:8080/",
          "height": 238
        }
      },
      "source": [
        "#Measurements for mu and motions U\n",
        "measurements = [5., 6., 7., 9., 10.]\n",
        "motions = [1., 1., 2., 1., 1.]\n",
        "\n",
        "#initial parameters\n",
        "measurement_sig = 4. \n",
        "motion_sig = 2. \n",
        "mu = 0.\n",
        "sig = 10000. \n",
        "\n",
        "#Loop through all measurements/motions\n",
        "for i in range(len(measurements)):\n",
        "  #measurement update, with uncertainty\n",
        "  mu, sig = update(mu, sig, measurements[i], measurement_sig)\n",
        "  print('Update [{}, {}]'.format(mu, sig))\n",
        "  #motion update with uncertainty\n",
        "  mu, sig = predict(mu, sig, motions[i], motion_sig)\n",
        "  print('Predict [{}, {}]'.format(mu, sig))\n",
        "\n",
        "#Print the final, resultant mu, sig\n",
        "print('\\n')\n",
        "print('Final result [{}, {}]'.format(mu, sig))"
      ],
      "execution_count": 0,
      "outputs": [
        {
          "output_type": "stream",
          "text": [
            "Update [4.998000799680128, 3.9984006397441023]\n",
            "Predict [5.998000799680128, 5.998400639744102]\n",
            "Update [5.999200191953932, 2.399744061425258]\n",
            "Predict [6.999200191953932, 4.399744061425258]\n",
            "Update [6.999619127420922, 2.0951800575117594]\n",
            "Predict [8.999619127420921, 4.09518005751176]\n",
            "Update [8.999811802788143, 2.0235152416216957]\n",
            "Predict [9.999811802788143, 4.023515241621696]\n",
            "Update [9.999906177177365, 2.0058615808441944]\n",
            "Predict [10.999906177177365, 4.005861580844194]\n",
            "\n",
            "\n",
            "Final result [10.999906177177365, 4.005861580844194]\n"
          ],
          "name": "stdout"
        }
      ]
    },
    {
      "cell_type": "code",
      "metadata": {
        "id": "a4dsaZbz0k-J",
        "colab_type": "code",
        "outputId": "28907da9-41ec-44de-e0ac-6129b775ba92",
        "colab": {
          "base_uri": "https://localhost:8080/",
          "height": 282
        }
      },
      "source": [
        "## Print out and display the final, resulting Gaussian \n",
        "# set the parameters equal to the output of the Kalman filter result\n",
        "mu = mu\n",
        "sigma2 = sig\n",
        "\n",
        "# define a range of x values\n",
        "x_axis = np.arange(-20, 20, 0.1)\n",
        "\n",
        "# create a corresponding list of gaussian values\n",
        "g = []\n",
        "for x in x_axis:\n",
        "    g.append(f(mu, sigma2, x))\n",
        "\n",
        "# plot the result \n",
        "plt.plot(x_axis, g)"
      ],
      "execution_count": 0,
      "outputs": [
        {
          "output_type": "execute_result",
          "data": {
            "text/plain": [
              "[<matplotlib.lines.Line2D at 0x7f94b82c5ef0>]"
            ]
          },
          "metadata": {
            "tags": []
          },
          "execution_count": 17
        },
        {
          "output_type": "display_data",
          "data": {
            "image/png": "[encoded data removed]",
            "text/plain": [
              "<Figure size 432x288 with 1 Axes>"
            ]
          },
          "metadata": {
            "tags": []
          }
        }
      ]
    },
    {
      "cell_type": "code",
      "metadata": {
        "id": "mrNBFHKG1rvz",
        "colab_type": "code",
        "colab": {}
      },
      "source": [
        ""
      ],
      "execution_count": 0,
      "outputs": []
    }
  ]
}